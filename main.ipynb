{
 "cells": [
  {
   "cell_type": "code",
   "execution_count": 67,
   "metadata": {},
   "outputs": [],
   "source": [
    "import pandas as pd\n",
    "import re\n",
    "from selenium import webdriver\n",
    "from selenium.common.exceptions import StaleElementReferenceException\n",
    "from selenium.webdriver.common.keys import Keys\n",
    "from selenium.webdriver.common.by import By\n",
    "import time"
   ]
  },
  {
   "cell_type": "code",
   "execution_count": 68,
   "metadata": {},
   "outputs": [],
   "source": [
    "browser = webdriver.Firefox()\n",
    "browser.get('https://www.tripadvisor.fr')\n",
    "time.sleep(2)\n",
    "browser.maximize_window()"
   ]
  },
  {
   "cell_type": "markdown",
   "metadata": {},
   "source": [
    "# Recherche : restaurants sur Paris"
   ]
  },
  {
   "cell_type": "code",
   "execution_count": 69,
   "metadata": {},
   "outputs": [],
   "source": [
    "restaurant_btn = browser.find_element(By.CSS_SELECTOR, 'a[data-automation=\"centralNav_restaurants\"]')\n",
    "restaurant_btn.click()\n",
    "time.sleep(2)\n",
    "\n",
    "search_bar = browser.find_element(By.CSS_SELECTOR, 'input[title=\"Rechercher\"]')\n",
    "search_bar.send_keys('Paris')\n",
    "time.sleep(3)\n",
    "\n",
    "browser.find_element(By.ID, 'typeahead_results').find_element(By.TAG_NAME, 'a').click()"
   ]
  },
  {
   "cell_type": "markdown",
   "metadata": {},
   "source": [
    "# Clique sur un élément"
   ]
  },
  {
   "cell_type": "code",
   "execution_count": 70,
   "metadata": {},
   "outputs": [],
   "source": [
    "# TODO: modifier pour utiliser une classe ?\n",
    "def get_restaurant_page_info(browser):\n",
    "    \"\"\"Prend en paramètre un WebDriver et récupère le nom, les catégories et l'adresse sur la page d'un restaurant et les renvoie dans un dictionnaire.\n",
    "\n",
    "    Exemple d'utilisation : `get_restaurant_page_info(browser)`\n",
    "\n",
    "    Exemple de résultat :\n",
    "    ```json\n",
    "    {\n",
    "      'nom': 'Le Jules Verne',\n",
    "      'categorie': ['Française', 'Européenne'],\n",
    "      'adresse': 'Avenue Gustave Eiffel, 75007 Paris France'\n",
    "    }\n",
    "    ```\n",
    "    \"\"\"\n",
    "    res_info_div = browser.find_element(By.CSS_SELECTOR, 'div[data-test-target=\"restaurant-detail-info\"]')\n",
    "\n",
    "    categories = res_info_div.find_elements(By.CLASS_NAME, 'dlMOJ')\n",
    "\n",
    "    return {\n",
    "        'nom': res_info_div.find_element(By.TAG_NAME, 'h1').text,\n",
    "        'categorie': [cat.text for cat in categories if '€' not in cat.text],\n",
    "        'adresse': res_info_div.find_elements(By.CLASS_NAME, 'AYHFM')[1].text,\n",
    "    }"
   ]
  },
  {
   "cell_type": "code",
   "execution_count": 71,
   "metadata": {},
   "outputs": [],
   "source": [
    "def switch_to_next_page(browser):\n",
    "    \"\"\"Prend en paramètre un WebDriver et clique sur le bouton \\\"Suivant\\\" s'il existe.\n",
    "    \n",
    "    Exemple d'utilisation : `switch_to_next_page(browser)`\n",
    "    \"\"\"\n",
    "    try:\n",
    "        next_page_btn = browser.find_element(By.CSS_SELECTOR, 'a[data-smoke-attr=\"pagination-next-arrow\"]')\n",
    "        \n",
    "        if next_page_btn:\n",
    "            browser.execute_script(f'window.scrollTo(0, {next_page_btn.rect[\"y\"] - 300})')\n",
    "\n",
    "            next_page_btn.click()\n",
    "    except Exception as e:\n",
    "        print('Erreur lors de la tentative de changement de page :', e)\n",
    "        pass"
   ]
  },
  {
   "cell_type": "code",
   "execution_count": 72,
   "metadata": {},
   "outputs": [
    {
     "name": "stdout",
     "output_type": "stream",
     "text": [
      "URL de la page : https://www.tripadvisor.fr/Restaurants-g187147-Paris_Ile_de_France.html\n"
     ]
    },
    {
     "name": "stdout",
     "output_type": "stream",
     "text": [
      "Nombre de restaurants trouvés sur cette page : 30\n",
      "{'nom': 'New Jawad Longchamp', 'categorie': ['Indienne', 'Pakistanaise', 'Végétariens bienvenus'], 'adresse': '30 rue de Longchamp, 75116 Paris France'}\n",
      "{'nom': 'Orgueil', 'categorie': ['Française', 'Saine'], 'adresse': '6 rue Popincourt, 75011 Paris France'}\n",
      "URL de la page : https://www.tripadvisor.fr/Restaurants-g187147-oa30-Paris_Ile_de_France.html\n",
      "Nombre de restaurants trouvés sur cette page : 30\n",
      "{'nom': 'Frog & Underground', 'categorie': ['Américaine', 'Bar à bières', 'Bar'], 'adresse': '176 Rue Montmartre, 75002 Paris France'}\n",
      "{'nom': 'Pardi', 'categorie': ['Française', 'Méditerranéenne', 'Européenne'], 'adresse': '85 B boulevard de Magenta Marché Saint Quentin, 75010 Paris France'}\n",
      "nombre de restaurants : 4\n"
     ]
    }
   ],
   "source": [
    "index = 0\n",
    "page = 1\n",
    "\n",
    "restaurants = []\n",
    "\n",
    "def get_all_restaurant_divs(browser):\n",
    "    \"\"\"Prend en paramètre un WebDriver et renvoie une liste de tous les restaurants (div en HTML).\n",
    "    \n",
    "    Exemple d'utilisation : `get_all_restaurant_divs(browser)`\n",
    "    \"\"\"\n",
    "    elements = browser.find_element(By.CSS_SELECTOR, 'div[class=\"Ikpld f e\"]').find_elements(By.CSS_SELECTOR, 'div[data-test]')\n",
    "    return [el for el in elements if re.search(r'\\d+_list_item', el.get_attribute('data-test'))]\n",
    "\n",
    "while page < 4:\n",
    "    print('URL de la page :', browser.current_url)\n",
    "\n",
    "    # Rafraîchir la liste des restaurants après chaque changement de page\n",
    "    restaurants_html = get_all_restaurant_divs(browser)\n",
    "\n",
    "    print('Nombre de restaurants trouvés sur cette page :', len(restaurants_html))\n",
    "\n",
    "    while index < len(restaurants_html):\n",
    "        try:\n",
    "            res = restaurants_html[index]\n",
    "            lien_avis = res.find_element(By.TAG_NAME, 'a')\n",
    "\n",
    "            browser.execute_script(f'window.scrollTo(0, {lien_avis.rect[\"y\"] - 300})')\n",
    "            time.sleep(2)\n",
    "\n",
    "            browser.get(lien_avis.get_attribute('href'))\n",
    "            time.sleep(4)\n",
    "\n",
    "            # Récupération des informations du restaurant\n",
    "            variable_to_rename = get_restaurant_page_info(browser)\n",
    "            print(variable_to_rename)\n",
    "            restaurants.append(variable_to_rename)\n",
    "\n",
    "            # Retour à la liste des restaurants\n",
    "            browser.back()\n",
    "            time.sleep(2)\n",
    "\n",
    "            index += 1\n",
    "\n",
    "        # Si la liste de restaurants (div) est obsolète, rafraîchir\n",
    "        except StaleElementReferenceException:\n",
    "            restaurants_html = get_all_restaurant_divs(browser)\n",
    "            continue\n",
    "\n",
    "    # Si on arrive au bout de la liste des restaurants, on passe à la page suivante\n",
    "    if index >= len(restaurants_html):\n",
    "        switch_to_next_page(browser)\n",
    "        page += 1\n",
    "        time.sleep(4)\n",
    "        index = 0\n",
    "\n",
    "print('nombre de restaurants :', len(restaurants))\n"
   ]
  },
  {
   "cell_type": "code",
   "execution_count": null,
   "metadata": {},
   "outputs": [],
   "source": [
    "test = browser.find_element(By.CSS_SELECTOR, 'span[class=\"IiChw\"]')\n",
    "test.click()\n",
    "time.sleep(3)"
   ]
  },
  {
   "cell_type": "code",
   "execution_count": 42,
   "metadata": {},
   "outputs": [
    {
     "ename": "NoSuchElementException",
     "evalue": "Message: Unable to locate element: .rmyCe _G B- z _S c Wc wSSLS jWkoZ XDcOZ; For documentation on this error, please visit: https://www.selenium.dev/documentation/webdriver/troubleshooting/errors#no-such-element-exception\nStacktrace:\nRemoteError@chrome://remote/content/shared/RemoteError.sys.mjs:8:8\nWebDriverError@chrome://remote/content/shared/webdriver/Errors.sys.mjs:189:5\nNoSuchElementError@chrome://remote/content/shared/webdriver/Errors.sys.mjs:507:5\ndom.find/</<@chrome://remote/content/shared/DOM.sys.mjs:132:16\n",
     "output_type": "error",
     "traceback": [
      "\u001b[1;31m---------------------------------------------------------------------------\u001b[0m",
      "\u001b[1;31mNoSuchElementException\u001b[0m                    Traceback (most recent call last)",
      "Cell \u001b[1;32mIn[42], line 2\u001b[0m\n\u001b[0;32m      1\u001b[0m \u001b[38;5;66;03m# Utiliser un sélecteur XPath pour trouver l'élément\u001b[39;00m\n\u001b[1;32m----> 2\u001b[0m elements \u001b[38;5;241m=\u001b[39m \u001b[43mbrowser\u001b[49m\u001b[38;5;241;43m.\u001b[39;49m\u001b[43mfind_element\u001b[49m\u001b[43m(\u001b[49m\u001b[43mBy\u001b[49m\u001b[38;5;241;43m.\u001b[39;49m\u001b[43mCLASS_NAME\u001b[49m\u001b[43m,\u001b[49m\u001b[43m \u001b[49m\u001b[38;5;124;43m'\u001b[39;49m\u001b[38;5;124;43mrmyCe _G B- z _S c Wc wSSLS jWkoZ XDcOZ\u001b[39;49m\u001b[38;5;124;43m'\u001b[39;49m\u001b[43m)\u001b[49m\n\u001b[0;32m      4\u001b[0m \u001b[38;5;28mprint\u001b[39m(elements)\n",
      "File \u001b[1;32mc:\\Users\\pasca\\AppData\\Local\\Programs\\Python\\Python38\\lib\\site-packages\\selenium\\webdriver\\remote\\webdriver.py:742\u001b[0m, in \u001b[0;36mWebDriver.find_element\u001b[1;34m(self, by, value)\u001b[0m\n\u001b[0;32m    739\u001b[0m     by \u001b[38;5;241m=\u001b[39m By\u001b[38;5;241m.\u001b[39mCSS_SELECTOR\n\u001b[0;32m    740\u001b[0m     value \u001b[38;5;241m=\u001b[39m \u001b[38;5;124mf\u001b[39m\u001b[38;5;124m'\u001b[39m\u001b[38;5;124m[name=\u001b[39m\u001b[38;5;124m\"\u001b[39m\u001b[38;5;132;01m{\u001b[39;00mvalue\u001b[38;5;132;01m}\u001b[39;00m\u001b[38;5;124m\"\u001b[39m\u001b[38;5;124m]\u001b[39m\u001b[38;5;124m'\u001b[39m\n\u001b[1;32m--> 742\u001b[0m \u001b[38;5;28;01mreturn\u001b[39;00m \u001b[38;5;28;43mself\u001b[39;49m\u001b[38;5;241;43m.\u001b[39;49m\u001b[43mexecute\u001b[49m\u001b[43m(\u001b[49m\u001b[43mCommand\u001b[49m\u001b[38;5;241;43m.\u001b[39;49m\u001b[43mFIND_ELEMENT\u001b[49m\u001b[43m,\u001b[49m\u001b[43m \u001b[49m\u001b[43m{\u001b[49m\u001b[38;5;124;43m\"\u001b[39;49m\u001b[38;5;124;43musing\u001b[39;49m\u001b[38;5;124;43m\"\u001b[39;49m\u001b[43m:\u001b[49m\u001b[43m \u001b[49m\u001b[43mby\u001b[49m\u001b[43m,\u001b[49m\u001b[43m \u001b[49m\u001b[38;5;124;43m\"\u001b[39;49m\u001b[38;5;124;43mvalue\u001b[39;49m\u001b[38;5;124;43m\"\u001b[39;49m\u001b[43m:\u001b[49m\u001b[43m \u001b[49m\u001b[43mvalue\u001b[49m\u001b[43m}\u001b[49m\u001b[43m)\u001b[49m[\u001b[38;5;124m\"\u001b[39m\u001b[38;5;124mvalue\u001b[39m\u001b[38;5;124m\"\u001b[39m]\n",
      "File \u001b[1;32mc:\\Users\\pasca\\AppData\\Local\\Programs\\Python\\Python38\\lib\\site-packages\\selenium\\webdriver\\remote\\webdriver.py:348\u001b[0m, in \u001b[0;36mWebDriver.execute\u001b[1;34m(self, driver_command, params)\u001b[0m\n\u001b[0;32m    346\u001b[0m response \u001b[38;5;241m=\u001b[39m \u001b[38;5;28mself\u001b[39m\u001b[38;5;241m.\u001b[39mcommand_executor\u001b[38;5;241m.\u001b[39mexecute(driver_command, params)\n\u001b[0;32m    347\u001b[0m \u001b[38;5;28;01mif\u001b[39;00m response:\n\u001b[1;32m--> 348\u001b[0m     \u001b[38;5;28;43mself\u001b[39;49m\u001b[38;5;241;43m.\u001b[39;49m\u001b[43merror_handler\u001b[49m\u001b[38;5;241;43m.\u001b[39;49m\u001b[43mcheck_response\u001b[49m\u001b[43m(\u001b[49m\u001b[43mresponse\u001b[49m\u001b[43m)\u001b[49m\n\u001b[0;32m    349\u001b[0m     response[\u001b[38;5;124m\"\u001b[39m\u001b[38;5;124mvalue\u001b[39m\u001b[38;5;124m\"\u001b[39m] \u001b[38;5;241m=\u001b[39m \u001b[38;5;28mself\u001b[39m\u001b[38;5;241m.\u001b[39m_unwrap_value(response\u001b[38;5;241m.\u001b[39mget(\u001b[38;5;124m\"\u001b[39m\u001b[38;5;124mvalue\u001b[39m\u001b[38;5;124m\"\u001b[39m, \u001b[38;5;28;01mNone\u001b[39;00m))\n\u001b[0;32m    350\u001b[0m     \u001b[38;5;28;01mreturn\u001b[39;00m response\n",
      "File \u001b[1;32mc:\\Users\\pasca\\AppData\\Local\\Programs\\Python\\Python38\\lib\\site-packages\\selenium\\webdriver\\remote\\errorhandler.py:229\u001b[0m, in \u001b[0;36mErrorHandler.check_response\u001b[1;34m(self, response)\u001b[0m\n\u001b[0;32m    227\u001b[0m         alert_text \u001b[38;5;241m=\u001b[39m value[\u001b[38;5;124m\"\u001b[39m\u001b[38;5;124malert\u001b[39m\u001b[38;5;124m\"\u001b[39m]\u001b[38;5;241m.\u001b[39mget(\u001b[38;5;124m\"\u001b[39m\u001b[38;5;124mtext\u001b[39m\u001b[38;5;124m\"\u001b[39m)\n\u001b[0;32m    228\u001b[0m     \u001b[38;5;28;01mraise\u001b[39;00m exception_class(message, screen, stacktrace, alert_text)  \u001b[38;5;66;03m# type: ignore[call-arg]  # mypy is not smart enough here\u001b[39;00m\n\u001b[1;32m--> 229\u001b[0m \u001b[38;5;28;01mraise\u001b[39;00m exception_class(message, screen, stacktrace)\n",
      "\u001b[1;31mNoSuchElementException\u001b[0m: Message: Unable to locate element: .rmyCe _G B- z _S c Wc wSSLS jWkoZ XDcOZ; For documentation on this error, please visit: https://www.selenium.dev/documentation/webdriver/troubleshooting/errors#no-such-element-exception\nStacktrace:\nRemoteError@chrome://remote/content/shared/RemoteError.sys.mjs:8:8\nWebDriverError@chrome://remote/content/shared/webdriver/Errors.sys.mjs:189:5\nNoSuchElementError@chrome://remote/content/shared/webdriver/Errors.sys.mjs:507:5\ndom.find/</<@chrome://remote/content/shared/DOM.sys.mjs:132:16\n"
     ]
    }
   ],
   "source": [
    "# Utiliser un sélecteur XPath pour trouver l'élément\n",
    "elements = browser.find_element(By.CLASS_NAME, 'class=\"partial_entry\"')\n",
    "\n",
    "print(elements)"
   ]
  }
 ],
 "metadata": {
  "kernelspec": {
   "display_name": "Python 3",
   "language": "python",
   "name": "python3"
  },
  "language_info": {
   "codemirror_mode": {
    "name": "ipython",
    "version": 3
   },
   "file_extension": ".py",
   "mimetype": "text/x-python",
   "name": "python",
   "nbconvert_exporter": "python",
   "pygments_lexer": "ipython3",
   "version": "3.8.6"
  }
 },
 "nbformat": 4,
 "nbformat_minor": 2
}

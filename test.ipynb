{
 "cells": [
  {
   "cell_type": "markdown",
   "metadata": {},
   "source": [
    "# SETUP"
   ]
  },
  {
   "cell_type": "code",
   "execution_count": 62,
   "metadata": {},
   "outputs": [],
   "source": [
    "import pandas as pd\n",
    "import numpy as np\n",
    "import matplotlib.pyplot as plt\n",
    "import seaborn as sns\n",
    "import spacy, re"
   ]
  },
  {
   "cell_type": "markdown",
   "metadata": {},
   "source": [
    "# Fonctions"
   ]
  },
  {
   "cell_type": "code",
   "execution_count": 113,
   "metadata": {},
   "outputs": [],
   "source": [
    "def remove_emojis(input_text):\n",
    "    emoji_pattern = re.compile(\"[\"\n",
    "        u\"\\U0001F600-\\U0001F64F\"  # emoticons\n",
    "        u\"\\U0001F300-\\U0001F5FF\"  # symbols & pictographs\n",
    "        u\"\\U0001F680-\\U0001F6FF\"  # transport & map symbols\n",
    "        u\"\\U0001F700-\\U0001F77F\"  # alchemical symbols\n",
    "        u\"\\U0001F780-\\U0001F7FF\"  # Geometric Shapes Extended\n",
    "        u\"\\U0001F800-\\U0001F8FF\"  # Supplemental Arrows-C\n",
    "        u\"\\U0001F900-\\U0001F9FF\"  # Supplemental Symbols and Pictographs\n",
    "        u\"\\U0001FA00-\\U0001FA6F\"  # Chess Symbols\n",
    "        u\"\\U0001FA70-\\U0001FAFF\"  # Symbols and Pictographs Extended-A\n",
    "        u\"\\U00002702-\\U000027B0\"  # Dingbats\n",
    "        u\"\\U000024C2-\\U0001F251\" \n",
    "        \"]+\", flags=re.UNICODE)\n",
    "    return emoji_pattern.sub(r'', input_text)\n",
    "\n",
    "# Créer une fonction pour nettoyer le texte\n",
    "def clean_text(text):\n",
    "    # Supprimer les espaces blancs\n",
    "    text = text.strip()\n",
    "    # Supprimer les retours à la ligne\n",
    "    text = text.replace('\\n', ' ')\n",
    "    # Supprimer les espaces multiples\n",
    "    text = re.sub(' +', ' ', text)\n",
    "    # Supprimer les caractères spéciaux\n",
    "    text = re.sub('[^A-Za-z0-9]+', ' ', text)\n",
    "    # Supprimer les emojis\n",
    "    text = remove_emojis(text)\n",
    "    return text\n"
   ]
  },
  {
   "cell_type": "markdown",
   "metadata": {},
   "source": [
    "# Traite du csv"
   ]
  },
  {
   "cell_type": "code",
   "execution_count": 114,
   "metadata": {},
   "outputs": [],
   "source": [
    "nlp = spacy.load(\"en_core_web_sm\")\n",
    "\n",
    "# Load csv file\n",
    "df = pd.read_csv('sample_data/Restaurant_reviews.csv', sep=',', encoding='utf-8')\n",
    "\n",
    "# delete columns that are not needed\n",
    "df.drop(['Reviewer', 'Metadata', 'Time', 'Pictures','7514'], axis=1, inplace=True)\n",
    "\n",
    "# delete rows where restaurant, rating, and review are missing\n",
    "df.dropna(subset=['Restaurant', 'Rating', 'Review'], inplace=True)\n",
    "\n",
    "# Appliquer la fonction de nettoyage au texte\n",
    "df['Review'] = df['Review'].apply(clean_text)\n",
    "\n",
    "# Conversion de la colonne Rating en type entier\n",
    "df['Rating'] = pd.to_numeric(df['Rating'], errors='coerce')\n",
    "\n",
    "# Ajouter une nouvelle colonne pour l'étiquette\n",
    "df['Label'] = np.where(df['Rating'] > 3, 1, 0)\n",
    "\n",
    "# Create a new CSV file with cleaned data\n",
    "df.to_csv('sample_data/reviews_clean.csv', index=False)"
   ]
  },
  {
   "cell_type": "markdown",
   "metadata": {},
   "source": [
    "# Infomartion sur le dataset"
   ]
  },
  {
   "cell_type": "code",
   "execution_count": 115,
   "metadata": {},
   "outputs": [
    {
     "name": "stdout",
     "output_type": "stream",
     "text": [
      "Total reviews:  9955\n",
      "Positive reviews:  6268\n",
      "Negative reviews:  3687\n",
      "Total reviews équilibré:  7374\n",
      "Positive reviews:  3687\n",
      "Negative reviews:  3687\n"
     ]
    }
   ],
   "source": [
    "positive = df[df['Label'] == 1]\n",
    "negative = df[df['Label'] == 0]\n",
    "\n",
    "print('Total reviews: ', len(df))\n",
    "print('Positive reviews: ', len(positive))\n",
    "print('Negative reviews: ', len(negative))\n",
    "    \n",
    "df = pd.concat([positive, negative], ignore_index=True)\n",
    "df = df.sample(frac=1).reset_index(drop=True)\n",
    "\n",
    "# Create a new CSV file with balanced data\n",
    "df.to_csv('sample_data/reviews_balanced.csv', index=False)\n",
    "\n",
    "print('Total reviews équilibré: ', len(df))\n",
    "print('Positive reviews: ', len(positive))\n",
    "print('Negative reviews: ', len(negative))"
   ]
  },
  {
   "cell_type": "code",
   "execution_count": 116,
   "metadata": {},
   "outputs": [],
   "source": [
    "pos_labels_train = np.ones(len(positive))\n",
    "neg_labels_train = np.zeros(len(negative))\n",
    "\n",
    "# concaténation de ces deux array pour créer la colonne de labels\n",
    "Y = np.hstack((pos_labels_train, neg_labels_train))"
   ]
  },
  {
   "cell_type": "code",
   "execution_count": 117,
   "metadata": {},
   "outputs": [
    {
     "data": {
      "text/html": [
       "<div>\n",
       "<style scoped>\n",
       "    .dataframe tbody tr th:only-of-type {\n",
       "        vertical-align: middle;\n",
       "    }\n",
       "\n",
       "    .dataframe tbody tr th {\n",
       "        vertical-align: top;\n",
       "    }\n",
       "\n",
       "    .dataframe thead th {\n",
       "        text-align: right;\n",
       "    }\n",
       "</style>\n",
       "<table border=\"1\" class=\"dataframe\">\n",
       "  <thead>\n",
       "    <tr style=\"text-align: right;\">\n",
       "      <th></th>\n",
       "      <th>text</th>\n",
       "      <th>label</th>\n",
       "    </tr>\n",
       "  </thead>\n",
       "  <tbody>\n",
       "    <tr>\n",
       "      <th>0</th>\n",
       "      <td>Delicious food Amazing place Reminds me of my ...</td>\n",
       "      <td>1.0</td>\n",
       "    </tr>\n",
       "    <tr>\n",
       "      <th>1</th>\n",
       "      <td>Food is not bad but not like northeast Service...</td>\n",
       "      <td>1.0</td>\n",
       "    </tr>\n",
       "    <tr>\n",
       "      <th>2</th>\n",
       "      <td>Best north Indian food in Hyderabad aloo and p...</td>\n",
       "      <td>1.0</td>\n",
       "    </tr>\n",
       "    <tr>\n",
       "      <th>3</th>\n",
       "      <td>If you crave for some Mumbai style chaat then ...</td>\n",
       "      <td>1.0</td>\n",
       "    </tr>\n",
       "    <tr>\n",
       "      <th>4</th>\n",
       "      <td>Great food Esp the Know Suey Starters were goo...</td>\n",
       "      <td>1.0</td>\n",
       "    </tr>\n",
       "    <tr>\n",
       "      <th>...</th>\n",
       "      <td>...</td>\n",
       "      <td>...</td>\n",
       "    </tr>\n",
       "    <tr>\n",
       "      <th>7369</th>\n",
       "      <td>Very good at quality guys even packaging is ex...</td>\n",
       "      <td>0.0</td>\n",
       "    </tr>\n",
       "    <tr>\n",
       "      <th>7370</th>\n",
       "      <td>Visited on Christmas eve I must say overall am...</td>\n",
       "      <td>0.0</td>\n",
       "    </tr>\n",
       "    <tr>\n",
       "      <th>7371</th>\n",
       "      <td>worst taste buffet is not at all good service ...</td>\n",
       "      <td>0.0</td>\n",
       "    </tr>\n",
       "    <tr>\n",
       "      <th>7372</th>\n",
       "      <td>The worst place I went there with a frnd today...</td>\n",
       "      <td>0.0</td>\n",
       "    </tr>\n",
       "    <tr>\n",
       "      <th>7373</th>\n",
       "      <td>Wonderful food especially grilled ones Awesome...</td>\n",
       "      <td>0.0</td>\n",
       "    </tr>\n",
       "  </tbody>\n",
       "</table>\n",
       "<p>7374 rows × 2 columns</p>\n",
       "</div>"
      ],
      "text/plain": [
       "                                                   text  label\n",
       "0     Delicious food Amazing place Reminds me of my ...    1.0\n",
       "1     Food is not bad but not like northeast Service...    1.0\n",
       "2     Best north Indian food in Hyderabad aloo and p...    1.0\n",
       "3     If you crave for some Mumbai style chaat then ...    1.0\n",
       "4     Great food Esp the Know Suey Starters were goo...    1.0\n",
       "...                                                 ...    ...\n",
       "7369  Very good at quality guys even packaging is ex...    0.0\n",
       "7370  Visited on Christmas eve I must say overall am...    0.0\n",
       "7371  worst taste buffet is not at all good service ...    0.0\n",
       "7372  The worst place I went there with a frnd today...    0.0\n",
       "7373  Wonderful food especially grilled ones Awesome...    0.0\n",
       "\n",
       "[7374 rows x 2 columns]"
      ]
     },
     "execution_count": 117,
     "metadata": {},
     "output_type": "execute_result"
    }
   ],
   "source": [
    "nlp_data = pd.DataFrame({\"text\":df['Review'], \"label\":Y})\n",
    "nlp_data"
   ]
  },
  {
   "cell_type": "markdown",
   "metadata": {},
   "source": [
    "# Utilisation de la lib nlp"
   ]
  },
  {
   "cell_type": "markdown",
   "metadata": {},
   "source": [
    "# Connexion et insertion en base"
   ]
  }
 ],
 "metadata": {
  "kernelspec": {
   "display_name": "base",
   "language": "python",
   "name": "python3"
  },
  "language_info": {
   "codemirror_mode": {
    "name": "ipython",
    "version": 3
   },
   "file_extension": ".py",
   "mimetype": "text/x-python",
   "name": "python",
   "nbconvert_exporter": "python",
   "pygments_lexer": "ipython3",
   "version": "3.11.5"
  }
 },
 "nbformat": 4,
 "nbformat_minor": 2
}
